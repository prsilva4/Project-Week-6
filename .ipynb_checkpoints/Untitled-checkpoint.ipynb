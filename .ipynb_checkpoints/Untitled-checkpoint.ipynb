{
 "cells": [
  {
   "cell_type": "code",
   "execution_count": 1,
   "id": "0904dec3",
   "metadata": {},
   "outputs": [],
   "source": [
    "import pandas as pd\n",
    "import numpy as np\n",
    "from statsmodels.stats.proportion import proportions_ztest"
   ]
  },
  {
   "cell_type": "code",
   "execution_count": 2,
   "id": "9c209abd",
   "metadata": {},
   "outputs": [
    {
     "data": {
      "text/html": [
       "<div>\n",
       "<style scoped>\n",
       "    .dataframe tbody tr th:only-of-type {\n",
       "        vertical-align: middle;\n",
       "    }\n",
       "\n",
       "    .dataframe tbody tr th {\n",
       "        vertical-align: top;\n",
       "    }\n",
       "\n",
       "    .dataframe thead th {\n",
       "        text-align: right;\n",
       "    }\n",
       "</style>\n",
       "<table border=\"1\" class=\"dataframe\">\n",
       "  <thead>\n",
       "    <tr style=\"text-align: right;\">\n",
       "      <th></th>\n",
       "      <th>Carimbo de data/hora</th>\n",
       "      <th>Género</th>\n",
       "      <th>Idade</th>\n",
       "      <th>Telemóvel - Sistema Operativo</th>\n",
       "      <th>Marca de telemóvel</th>\n",
       "      <th>Computador - Sistema Operativo</th>\n",
       "    </tr>\n",
       "  </thead>\n",
       "  <tbody>\n",
       "    <tr>\n",
       "      <th>0</th>\n",
       "      <td>2022/03/03 19:24:35</td>\n",
       "      <td>Masculino</td>\n",
       "      <td>[30-40]</td>\n",
       "      <td>Android</td>\n",
       "      <td>Samsung</td>\n",
       "      <td>Mac</td>\n",
       "    </tr>\n",
       "    <tr>\n",
       "      <th>1</th>\n",
       "      <td>2022/03/03 19:56:28</td>\n",
       "      <td>Masculino</td>\n",
       "      <td>[25-34]</td>\n",
       "      <td>Apple</td>\n",
       "      <td>Iphone</td>\n",
       "      <td>Mac</td>\n",
       "    </tr>\n",
       "    <tr>\n",
       "      <th>2</th>\n",
       "      <td>2022/03/03 20:00:58</td>\n",
       "      <td>Masculino</td>\n",
       "      <td>[15-24]</td>\n",
       "      <td>Apple</td>\n",
       "      <td>Iphone</td>\n",
       "      <td>Windows</td>\n",
       "    </tr>\n",
       "    <tr>\n",
       "      <th>3</th>\n",
       "      <td>2022/03/03 20:01:29</td>\n",
       "      <td>Feminino</td>\n",
       "      <td>[15-24]</td>\n",
       "      <td>Apple</td>\n",
       "      <td>Iphone</td>\n",
       "      <td>Windows</td>\n",
       "    </tr>\n",
       "    <tr>\n",
       "      <th>4</th>\n",
       "      <td>2022/03/03 20:04:25</td>\n",
       "      <td>Feminino</td>\n",
       "      <td>[25-34]</td>\n",
       "      <td>Android</td>\n",
       "      <td>Huawei</td>\n",
       "      <td>Windows</td>\n",
       "    </tr>\n",
       "  </tbody>\n",
       "</table>\n",
       "</div>"
      ],
      "text/plain": [
       "  Carimbo de data/hora     Género    Idade Telemóvel - Sistema Operativo  \\\n",
       "0  2022/03/03 19:24:35  Masculino  [30-40]                       Android   \n",
       "1  2022/03/03 19:56:28  Masculino  [25-34]                         Apple   \n",
       "2  2022/03/03 20:00:58  Masculino  [15-24]                         Apple   \n",
       "3  2022/03/03 20:01:29   Feminino  [15-24]                         Apple   \n",
       "4  2022/03/03 20:04:25   Feminino  [25-34]                       Android   \n",
       "\n",
       "  Marca de telemóvel Computador - Sistema Operativo   \n",
       "0            Samsung                             Mac  \n",
       "1             Iphone                             Mac  \n",
       "2             Iphone                         Windows  \n",
       "3             Iphone                         Windows  \n",
       "4             Huawei                         Windows  "
      ]
     },
     "execution_count": 2,
     "metadata": {},
     "output_type": "execute_result"
    }
   ],
   "source": [
    "dataset=pd.read_csv('mydata.csv')\n",
    "dataset.head()"
   ]
  },
  {
   "cell_type": "code",
   "execution_count": 3,
   "id": "cb669361",
   "metadata": {},
   "outputs": [],
   "source": [
    "dataset=dataset.drop(['Carimbo de data/hora'], axis=1)"
   ]
  },
  {
   "cell_type": "code",
   "execution_count": 4,
   "id": "b37674ee",
   "metadata": {},
   "outputs": [],
   "source": [
    "apple = dataset[(dataset['Telemóvel - Sistema Operativo'] == 'Apple')]\n",
    "android= dataset[(dataset['Telemóvel - Sistema Operativo'] == 'Android')]"
   ]
  },
  {
   "cell_type": "code",
   "execution_count": 5,
   "id": "1fac123f",
   "metadata": {},
   "outputs": [
    {
     "data": {
      "text/plain": [
       "Género                             30\n",
       "Idade                              30\n",
       "Telemóvel - Sistema Operativo      30\n",
       "Marca de telemóvel                 30\n",
       "Computador - Sistema Operativo     30\n",
       "dtype: int64"
      ]
     },
     "execution_count": 5,
     "metadata": {},
     "output_type": "execute_result"
    }
   ],
   "source": [
    "apple.count()"
   ]
  },
  {
   "cell_type": "code",
   "execution_count": 6,
   "id": "bbf3b63d",
   "metadata": {},
   "outputs": [
    {
     "data": {
      "text/plain": [
       "Género                             16\n",
       "Idade                              16\n",
       "Telemóvel - Sistema Operativo      16\n",
       "Marca de telemóvel                 16\n",
       "Computador - Sistema Operativo     16\n",
       "dtype: int64"
      ]
     },
     "execution_count": 6,
     "metadata": {},
     "output_type": "execute_result"
    }
   ],
   "source": [
    "apple[apple['Computador - Sistema Operativo ']=='Mac'].count()"
   ]
  },
  {
   "cell_type": "code",
   "execution_count": 7,
   "id": "9ece636e",
   "metadata": {},
   "outputs": [],
   "source": [
    "#testing the hypothesis that 85% of the people within the sample that have an iphone also have a mac computer\n",
    "\n",
    "# H0=mac/iphone < 85\n",
    "# H1=mac/iphone > 85"
   ]
  },
  {
   "cell_type": "code",
   "execution_count": 8,
   "id": "86825bc4",
   "metadata": {},
   "outputs": [
    {
     "data": {
      "text/plain": [
       "(-3.4766440098791493, 0.9997461342625837)"
      ]
     },
     "execution_count": 8,
     "metadata": {},
     "output_type": "execute_result"
    }
   ],
   "source": [
    "proportions_ztest(16, 30, value=0.85,alternative='larger', prop_var=False)"
   ]
  },
  {
   "cell_type": "code",
   "execution_count": 9,
   "id": "b17ba35a",
   "metadata": {},
   "outputs": [],
   "source": [
    "#Our pvalue is way over 0.05 which makes us conclude that we cannot reject the null hypothesis, \n",
    "#therefore we cannot say with 95% confidence that 85% of users that have an iphone also have a mac."
   ]
  },
  {
   "cell_type": "code",
   "execution_count": 10,
   "id": "fec01844",
   "metadata": {},
   "outputs": [],
   "source": [
    "#testing the hypothesis that 85% of the people within the sample that have an android also have a windows computer\n",
    "# H0=windows/android < 85\n",
    "# H1=windows/android > 85"
   ]
  },
  {
   "cell_type": "code",
   "execution_count": 11,
   "id": "9f0951c6",
   "metadata": {},
   "outputs": [
    {
     "data": {
      "text/plain": [
       "Género                             17\n",
       "Idade                              17\n",
       "Telemóvel - Sistema Operativo      17\n",
       "Marca de telemóvel                 17\n",
       "Computador - Sistema Operativo     17\n",
       "dtype: int64"
      ]
     },
     "execution_count": 11,
     "metadata": {},
     "output_type": "execute_result"
    }
   ],
   "source": [
    "android[android['Computador - Sistema Operativo ']=='Windows'].count()"
   ]
  },
  {
   "cell_type": "code",
   "execution_count": 12,
   "id": "84c4d350",
   "metadata": {},
   "outputs": [
    {
     "data": {
      "text/plain": [
       "Género                             23\n",
       "Idade                              23\n",
       "Telemóvel - Sistema Operativo      23\n",
       "Marca de telemóvel                 23\n",
       "Computador - Sistema Operativo     23\n",
       "dtype: int64"
      ]
     },
     "execution_count": 12,
     "metadata": {},
     "output_type": "execute_result"
    }
   ],
   "source": [
    "android.count()"
   ]
  },
  {
   "cell_type": "code",
   "execution_count": 13,
   "id": "fab914e7",
   "metadata": {},
   "outputs": [
    {
     "data": {
      "text/plain": [
       "(-1.2108881038312336, 0.8870308537529282)"
      ]
     },
     "execution_count": 13,
     "metadata": {},
     "output_type": "execute_result"
    }
   ],
   "source": [
    "proportions_ztest(17, 23, value=0.85, alternative='larger', prop_var=False)"
   ]
  },
  {
   "cell_type": "code",
   "execution_count": 14,
   "id": "ea42bb83",
   "metadata": {},
   "outputs": [],
   "source": [
    "#Our pvalue is way over 0.05 which makes us conclude that we cannot reject the null hypothesis, \n",
    "#therefore we cannot say with 95% confidence that 85% of users that have an android also have a windows computer."
   ]
  },
  {
   "cell_type": "code",
   "execution_count": 15,
   "id": "cada51ed",
   "metadata": {},
   "outputs": [],
   "source": [
    "mobile=pd.read_csv('mobile.csv')"
   ]
  },
  {
   "cell_type": "code",
   "execution_count": 16,
   "id": "bbb80698",
   "metadata": {},
   "outputs": [],
   "source": [
    "computer=pd.read_csv('Computer.csv')"
   ]
  },
  {
   "cell_type": "code",
   "execution_count": 17,
   "id": "15a97ab1",
   "metadata": {},
   "outputs": [
    {
     "data": {
      "text/html": [
       "<div>\n",
       "<style scoped>\n",
       "    .dataframe tbody tr th:only-of-type {\n",
       "        vertical-align: middle;\n",
       "    }\n",
       "\n",
       "    .dataframe tbody tr th {\n",
       "        vertical-align: top;\n",
       "    }\n",
       "\n",
       "    .dataframe thead th {\n",
       "        text-align: right;\n",
       "    }\n",
       "</style>\n",
       "<table border=\"1\" class=\"dataframe\">\n",
       "  <thead>\n",
       "    <tr style=\"text-align: right;\">\n",
       "      <th></th>\n",
       "      <th>Date</th>\n",
       "      <th>Android</th>\n",
       "      <th>iOS</th>\n",
       "      <th>Samsung</th>\n",
       "      <th>Windows</th>\n",
       "      <th>Nokia Unknown</th>\n",
       "      <th>Unknown</th>\n",
       "      <th>Other</th>\n",
       "    </tr>\n",
       "  </thead>\n",
       "  <tbody>\n",
       "    <tr>\n",
       "      <th>0</th>\n",
       "      <td>2019-01</td>\n",
       "      <td>73.82</td>\n",
       "      <td>25.26</td>\n",
       "      <td>0.37</td>\n",
       "      <td>0.42</td>\n",
       "      <td>0.05</td>\n",
       "      <td>0.01</td>\n",
       "      <td>0.07</td>\n",
       "    </tr>\n",
       "    <tr>\n",
       "      <th>1</th>\n",
       "      <td>2019-02</td>\n",
       "      <td>73.16</td>\n",
       "      <td>25.93</td>\n",
       "      <td>0.41</td>\n",
       "      <td>0.39</td>\n",
       "      <td>0.05</td>\n",
       "      <td>0.01</td>\n",
       "      <td>0.07</td>\n",
       "    </tr>\n",
       "    <tr>\n",
       "      <th>2</th>\n",
       "      <td>2019-03</td>\n",
       "      <td>75.78</td>\n",
       "      <td>23.41</td>\n",
       "      <td>0.32</td>\n",
       "      <td>0.37</td>\n",
       "      <td>0.03</td>\n",
       "      <td>0.02</td>\n",
       "      <td>0.06</td>\n",
       "    </tr>\n",
       "    <tr>\n",
       "      <th>3</th>\n",
       "      <td>2019-04</td>\n",
       "      <td>78.39</td>\n",
       "      <td>20.98</td>\n",
       "      <td>0.27</td>\n",
       "      <td>0.27</td>\n",
       "      <td>0.02</td>\n",
       "      <td>0.01</td>\n",
       "      <td>0.05</td>\n",
       "    </tr>\n",
       "    <tr>\n",
       "      <th>4</th>\n",
       "      <td>2019-05</td>\n",
       "      <td>75.75</td>\n",
       "      <td>23.65</td>\n",
       "      <td>0.13</td>\n",
       "      <td>0.34</td>\n",
       "      <td>0.05</td>\n",
       "      <td>0.02</td>\n",
       "      <td>0.06</td>\n",
       "    </tr>\n",
       "  </tbody>\n",
       "</table>\n",
       "</div>"
      ],
      "text/plain": [
       "      Date  Android    iOS  Samsung  Windows  Nokia Unknown  Unknown  Other\n",
       "0  2019-01    73.82  25.26     0.37     0.42           0.05     0.01   0.07\n",
       "1  2019-02    73.16  25.93     0.41     0.39           0.05     0.01   0.07\n",
       "2  2019-03    75.78  23.41     0.32     0.37           0.03     0.02   0.06\n",
       "3  2019-04    78.39  20.98     0.27     0.27           0.02     0.01   0.05\n",
       "4  2019-05    75.75  23.65     0.13     0.34           0.05     0.02   0.06"
      ]
     },
     "execution_count": 17,
     "metadata": {},
     "output_type": "execute_result"
    }
   ],
   "source": [
    "mobile.head()"
   ]
  },
  {
   "cell_type": "code",
   "execution_count": 18,
   "id": "ff1fdb48",
   "metadata": {},
   "outputs": [
    {
     "data": {
      "text/html": [
       "<div>\n",
       "<style scoped>\n",
       "    .dataframe tbody tr th:only-of-type {\n",
       "        vertical-align: middle;\n",
       "    }\n",
       "\n",
       "    .dataframe tbody tr th {\n",
       "        vertical-align: top;\n",
       "    }\n",
       "\n",
       "    .dataframe thead th {\n",
       "        text-align: right;\n",
       "    }\n",
       "</style>\n",
       "<table border=\"1\" class=\"dataframe\">\n",
       "  <thead>\n",
       "    <tr style=\"text-align: right;\">\n",
       "      <th></th>\n",
       "      <th>Date</th>\n",
       "      <th>Windows</th>\n",
       "      <th>OS X</th>\n",
       "      <th>Unknown</th>\n",
       "      <th>Linux</th>\n",
       "      <th>Chrome OS</th>\n",
       "      <th>Other</th>\n",
       "    </tr>\n",
       "  </thead>\n",
       "  <tbody>\n",
       "    <tr>\n",
       "      <th>0</th>\n",
       "      <td>2019-01</td>\n",
       "      <td>79.41</td>\n",
       "      <td>14.80</td>\n",
       "      <td>4.78</td>\n",
       "      <td>0.96</td>\n",
       "      <td>0.05</td>\n",
       "      <td>0.0</td>\n",
       "    </tr>\n",
       "    <tr>\n",
       "      <th>1</th>\n",
       "      <td>2019-02</td>\n",
       "      <td>77.19</td>\n",
       "      <td>16.69</td>\n",
       "      <td>5.15</td>\n",
       "      <td>0.92</td>\n",
       "      <td>0.05</td>\n",
       "      <td>0.0</td>\n",
       "    </tr>\n",
       "    <tr>\n",
       "      <th>2</th>\n",
       "      <td>2019-03</td>\n",
       "      <td>79.36</td>\n",
       "      <td>17.75</td>\n",
       "      <td>1.84</td>\n",
       "      <td>0.99</td>\n",
       "      <td>0.06</td>\n",
       "      <td>0.0</td>\n",
       "    </tr>\n",
       "    <tr>\n",
       "      <th>3</th>\n",
       "      <td>2019-04</td>\n",
       "      <td>78.74</td>\n",
       "      <td>17.98</td>\n",
       "      <td>2.09</td>\n",
       "      <td>1.13</td>\n",
       "      <td>0.06</td>\n",
       "      <td>0.0</td>\n",
       "    </tr>\n",
       "    <tr>\n",
       "      <th>4</th>\n",
       "      <td>2019-05</td>\n",
       "      <td>78.85</td>\n",
       "      <td>17.86</td>\n",
       "      <td>2.08</td>\n",
       "      <td>1.15</td>\n",
       "      <td>0.06</td>\n",
       "      <td>0.0</td>\n",
       "    </tr>\n",
       "  </tbody>\n",
       "</table>\n",
       "</div>"
      ],
      "text/plain": [
       "      Date  Windows   OS X  Unknown  Linux  Chrome OS  Other\n",
       "0  2019-01    79.41  14.80     4.78   0.96       0.05    0.0\n",
       "1  2019-02    77.19  16.69     5.15   0.92       0.05    0.0\n",
       "2  2019-03    79.36  17.75     1.84   0.99       0.06    0.0\n",
       "3  2019-04    78.74  17.98     2.09   1.13       0.06    0.0\n",
       "4  2019-05    78.85  17.86     2.08   1.15       0.06    0.0"
      ]
     },
     "execution_count": 18,
     "metadata": {},
     "output_type": "execute_result"
    }
   ],
   "source": [
    "computer.head()"
   ]
  },
  {
   "cell_type": "code",
   "execution_count": 19,
   "id": "70aca9b7",
   "metadata": {},
   "outputs": [],
   "source": [
    "sum_column1 = mobile[\"Samsung\"] + mobile[\"Windows\"]+ mobile[\"Nokia Unknown\"]+ mobile[\"Unknown\"]+ mobile[\"Other\"]"
   ]
  },
  {
   "cell_type": "code",
   "execution_count": 20,
   "id": "c86e5255",
   "metadata": {},
   "outputs": [],
   "source": [
    "mobile['Others']=sum_column1"
   ]
  },
  {
   "cell_type": "code",
   "execution_count": 21,
   "id": "0621d4ec",
   "metadata": {},
   "outputs": [
    {
     "data": {
      "text/html": [
       "<div>\n",
       "<style scoped>\n",
       "    .dataframe tbody tr th:only-of-type {\n",
       "        vertical-align: middle;\n",
       "    }\n",
       "\n",
       "    .dataframe tbody tr th {\n",
       "        vertical-align: top;\n",
       "    }\n",
       "\n",
       "    .dataframe thead th {\n",
       "        text-align: right;\n",
       "    }\n",
       "</style>\n",
       "<table border=\"1\" class=\"dataframe\">\n",
       "  <thead>\n",
       "    <tr style=\"text-align: right;\">\n",
       "      <th></th>\n",
       "      <th>Date</th>\n",
       "      <th>Android</th>\n",
       "      <th>iOS</th>\n",
       "      <th>Samsung</th>\n",
       "      <th>Windows</th>\n",
       "      <th>Nokia Unknown</th>\n",
       "      <th>Unknown</th>\n",
       "      <th>Other</th>\n",
       "      <th>Others</th>\n",
       "    </tr>\n",
       "  </thead>\n",
       "  <tbody>\n",
       "    <tr>\n",
       "      <th>0</th>\n",
       "      <td>2019-01</td>\n",
       "      <td>73.82</td>\n",
       "      <td>25.26</td>\n",
       "      <td>0.37</td>\n",
       "      <td>0.42</td>\n",
       "      <td>0.05</td>\n",
       "      <td>0.01</td>\n",
       "      <td>0.07</td>\n",
       "      <td>0.92</td>\n",
       "    </tr>\n",
       "    <tr>\n",
       "      <th>1</th>\n",
       "      <td>2019-02</td>\n",
       "      <td>73.16</td>\n",
       "      <td>25.93</td>\n",
       "      <td>0.41</td>\n",
       "      <td>0.39</td>\n",
       "      <td>0.05</td>\n",
       "      <td>0.01</td>\n",
       "      <td>0.07</td>\n",
       "      <td>0.93</td>\n",
       "    </tr>\n",
       "    <tr>\n",
       "      <th>2</th>\n",
       "      <td>2019-03</td>\n",
       "      <td>75.78</td>\n",
       "      <td>23.41</td>\n",
       "      <td>0.32</td>\n",
       "      <td>0.37</td>\n",
       "      <td>0.03</td>\n",
       "      <td>0.02</td>\n",
       "      <td>0.06</td>\n",
       "      <td>0.80</td>\n",
       "    </tr>\n",
       "    <tr>\n",
       "      <th>3</th>\n",
       "      <td>2019-04</td>\n",
       "      <td>78.39</td>\n",
       "      <td>20.98</td>\n",
       "      <td>0.27</td>\n",
       "      <td>0.27</td>\n",
       "      <td>0.02</td>\n",
       "      <td>0.01</td>\n",
       "      <td>0.05</td>\n",
       "      <td>0.62</td>\n",
       "    </tr>\n",
       "    <tr>\n",
       "      <th>4</th>\n",
       "      <td>2019-05</td>\n",
       "      <td>75.75</td>\n",
       "      <td>23.65</td>\n",
       "      <td>0.13</td>\n",
       "      <td>0.34</td>\n",
       "      <td>0.05</td>\n",
       "      <td>0.02</td>\n",
       "      <td>0.06</td>\n",
       "      <td>0.60</td>\n",
       "    </tr>\n",
       "  </tbody>\n",
       "</table>\n",
       "</div>"
      ],
      "text/plain": [
       "      Date  Android    iOS  Samsung  Windows  Nokia Unknown  Unknown  Other  \\\n",
       "0  2019-01    73.82  25.26     0.37     0.42           0.05     0.01   0.07   \n",
       "1  2019-02    73.16  25.93     0.41     0.39           0.05     0.01   0.07   \n",
       "2  2019-03    75.78  23.41     0.32     0.37           0.03     0.02   0.06   \n",
       "3  2019-04    78.39  20.98     0.27     0.27           0.02     0.01   0.05   \n",
       "4  2019-05    75.75  23.65     0.13     0.34           0.05     0.02   0.06   \n",
       "\n",
       "   Others  \n",
       "0    0.92  \n",
       "1    0.93  \n",
       "2    0.80  \n",
       "3    0.62  \n",
       "4    0.60  "
      ]
     },
     "execution_count": 21,
     "metadata": {},
     "output_type": "execute_result"
    }
   ],
   "source": [
    "mobile.head()"
   ]
  },
  {
   "cell_type": "code",
   "execution_count": 22,
   "id": "e7cd3a68",
   "metadata": {},
   "outputs": [],
   "source": [
    "mobile=mobile.drop(['Samsung', 'Windows','Nokia Unknown','Unknown','Other'], axis=1)"
   ]
  },
  {
   "cell_type": "code",
   "execution_count": 23,
   "id": "13d96331",
   "metadata": {},
   "outputs": [
    {
     "data": {
      "text/html": [
       "<div>\n",
       "<style scoped>\n",
       "    .dataframe tbody tr th:only-of-type {\n",
       "        vertical-align: middle;\n",
       "    }\n",
       "\n",
       "    .dataframe tbody tr th {\n",
       "        vertical-align: top;\n",
       "    }\n",
       "\n",
       "    .dataframe thead th {\n",
       "        text-align: right;\n",
       "    }\n",
       "</style>\n",
       "<table border=\"1\" class=\"dataframe\">\n",
       "  <thead>\n",
       "    <tr style=\"text-align: right;\">\n",
       "      <th></th>\n",
       "      <th>Date</th>\n",
       "      <th>Android</th>\n",
       "      <th>iOS</th>\n",
       "      <th>Others</th>\n",
       "    </tr>\n",
       "  </thead>\n",
       "  <tbody>\n",
       "    <tr>\n",
       "      <th>0</th>\n",
       "      <td>2019-01</td>\n",
       "      <td>73.82</td>\n",
       "      <td>25.26</td>\n",
       "      <td>0.92</td>\n",
       "    </tr>\n",
       "    <tr>\n",
       "      <th>1</th>\n",
       "      <td>2019-02</td>\n",
       "      <td>73.16</td>\n",
       "      <td>25.93</td>\n",
       "      <td>0.93</td>\n",
       "    </tr>\n",
       "    <tr>\n",
       "      <th>2</th>\n",
       "      <td>2019-03</td>\n",
       "      <td>75.78</td>\n",
       "      <td>23.41</td>\n",
       "      <td>0.80</td>\n",
       "    </tr>\n",
       "    <tr>\n",
       "      <th>3</th>\n",
       "      <td>2019-04</td>\n",
       "      <td>78.39</td>\n",
       "      <td>20.98</td>\n",
       "      <td>0.62</td>\n",
       "    </tr>\n",
       "    <tr>\n",
       "      <th>4</th>\n",
       "      <td>2019-05</td>\n",
       "      <td>75.75</td>\n",
       "      <td>23.65</td>\n",
       "      <td>0.60</td>\n",
       "    </tr>\n",
       "  </tbody>\n",
       "</table>\n",
       "</div>"
      ],
      "text/plain": [
       "      Date  Android    iOS  Others\n",
       "0  2019-01    73.82  25.26    0.92\n",
       "1  2019-02    73.16  25.93    0.93\n",
       "2  2019-03    75.78  23.41    0.80\n",
       "3  2019-04    78.39  20.98    0.62\n",
       "4  2019-05    75.75  23.65    0.60"
      ]
     },
     "execution_count": 23,
     "metadata": {},
     "output_type": "execute_result"
    }
   ],
   "source": [
    "mobile.head()"
   ]
  },
  {
   "cell_type": "code",
   "execution_count": 24,
   "id": "269c3dbf",
   "metadata": {},
   "outputs": [],
   "source": [
    "sum_column2 = computer[\"Unknown\"] + computer[\"Linux\"]+ computer[\"Chrome OS\"]+ computer[\"Other\"]"
   ]
  },
  {
   "cell_type": "code",
   "execution_count": 25,
   "id": "5f786769",
   "metadata": {},
   "outputs": [],
   "source": [
    "computer['Others']=sum_column2"
   ]
  },
  {
   "cell_type": "code",
   "execution_count": 26,
   "id": "7983a95a",
   "metadata": {},
   "outputs": [
    {
     "data": {
      "text/html": [
       "<div>\n",
       "<style scoped>\n",
       "    .dataframe tbody tr th:only-of-type {\n",
       "        vertical-align: middle;\n",
       "    }\n",
       "\n",
       "    .dataframe tbody tr th {\n",
       "        vertical-align: top;\n",
       "    }\n",
       "\n",
       "    .dataframe thead th {\n",
       "        text-align: right;\n",
       "    }\n",
       "</style>\n",
       "<table border=\"1\" class=\"dataframe\">\n",
       "  <thead>\n",
       "    <tr style=\"text-align: right;\">\n",
       "      <th></th>\n",
       "      <th>Date</th>\n",
       "      <th>Windows</th>\n",
       "      <th>OS X</th>\n",
       "      <th>Others</th>\n",
       "    </tr>\n",
       "  </thead>\n",
       "  <tbody>\n",
       "    <tr>\n",
       "      <th>0</th>\n",
       "      <td>2019-01</td>\n",
       "      <td>79.41</td>\n",
       "      <td>14.80</td>\n",
       "      <td>5.79</td>\n",
       "    </tr>\n",
       "    <tr>\n",
       "      <th>1</th>\n",
       "      <td>2019-02</td>\n",
       "      <td>77.19</td>\n",
       "      <td>16.69</td>\n",
       "      <td>6.12</td>\n",
       "    </tr>\n",
       "    <tr>\n",
       "      <th>2</th>\n",
       "      <td>2019-03</td>\n",
       "      <td>79.36</td>\n",
       "      <td>17.75</td>\n",
       "      <td>2.89</td>\n",
       "    </tr>\n",
       "    <tr>\n",
       "      <th>3</th>\n",
       "      <td>2019-04</td>\n",
       "      <td>78.74</td>\n",
       "      <td>17.98</td>\n",
       "      <td>3.28</td>\n",
       "    </tr>\n",
       "    <tr>\n",
       "      <th>4</th>\n",
       "      <td>2019-05</td>\n",
       "      <td>78.85</td>\n",
       "      <td>17.86</td>\n",
       "      <td>3.29</td>\n",
       "    </tr>\n",
       "  </tbody>\n",
       "</table>\n",
       "</div>"
      ],
      "text/plain": [
       "      Date  Windows   OS X  Others\n",
       "0  2019-01    79.41  14.80    5.79\n",
       "1  2019-02    77.19  16.69    6.12\n",
       "2  2019-03    79.36  17.75    2.89\n",
       "3  2019-04    78.74  17.98    3.28\n",
       "4  2019-05    78.85  17.86    3.29"
      ]
     },
     "execution_count": 26,
     "metadata": {},
     "output_type": "execute_result"
    }
   ],
   "source": [
    "computer=computer.drop(['Unknown', 'Linux','Chrome OS','Other'], axis=1)\n",
    "\n",
    "computer.head()"
   ]
  },
  {
   "cell_type": "code",
   "execution_count": 27,
   "id": "2755f915",
   "metadata": {},
   "outputs": [],
   "source": [
    "mobile.to_csv('mobile-dist.csv')\n",
    "computer.to_csv('computer-dist.csv')"
   ]
  },
  {
   "cell_type": "code",
   "execution_count": null,
   "id": "b895a13f",
   "metadata": {},
   "outputs": [],
   "source": [
    "proportions_ztest(16, 30, value=0.85,alternative='larger', prop_var=False)\n",
    "\n",
    "proportions_ztest(17, 23, value=0.85,alternative='larger', prop_var=False)"
   ]
  }
 ],
 "metadata": {
  "kernelspec": {
   "display_name": "Python 3 (ipykernel)",
   "language": "python",
   "name": "python3"
  },
  "language_info": {
   "codemirror_mode": {
    "name": "ipython",
    "version": 3
   },
   "file_extension": ".py",
   "mimetype": "text/x-python",
   "name": "python",
   "nbconvert_exporter": "python",
   "pygments_lexer": "ipython3",
   "version": "3.8.12"
  }
 },
 "nbformat": 4,
 "nbformat_minor": 5
}
